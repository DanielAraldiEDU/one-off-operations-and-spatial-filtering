{
  "cells": [
    {
      "cell_type": "markdown",
      "source": [
        "### Universidade do Vale do Itajaí - UNIVALI\n",
        "\n",
        "#### Processamento de Imagens - Professor Felipe Viel\n",
        "\n",
        "**Alunos**: Daniel Sansão Araldi, Rafael Mota Alves, Kauan Guerreiro Adami Chaves"
      ],
      "metadata": {
        "id": "PVfcOCSNokjY"
      }
    },
    {
      "cell_type": "markdown",
      "source": [
        "Instalando **MedMNIST**"
      ],
      "metadata": {
        "id": "mU7IDJEsr4DX"
      }
    },
    {
      "cell_type": "code",
      "execution_count": 1,
      "metadata": {
        "id": "zwFnJsE6vjf8",
        "outputId": "c3d4da90-f7a1-403b-e166-da14dcb72376",
        "colab": {
          "base_uri": "https://localhost:8080/"
        }
      },
      "outputs": [
        {
          "output_type": "stream",
          "name": "stdout",
          "text": [
            "Collecting medmnist\n",
            "  Downloading medmnist-3.0.2-py3-none-any.whl.metadata (14 kB)\n",
            "Requirement already satisfied: numpy in /usr/local/lib/python3.11/dist-packages (from medmnist) (2.0.2)\n",
            "Requirement already satisfied: pandas in /usr/local/lib/python3.11/dist-packages (from medmnist) (2.2.2)\n",
            "Requirement already satisfied: scikit-learn in /usr/local/lib/python3.11/dist-packages (from medmnist) (1.6.1)\n",
            "Requirement already satisfied: scikit-image in /usr/local/lib/python3.11/dist-packages (from medmnist) (0.25.2)\n",
            "Requirement already satisfied: tqdm in /usr/local/lib/python3.11/dist-packages (from medmnist) (4.67.1)\n",
            "Requirement already satisfied: Pillow in /usr/local/lib/python3.11/dist-packages (from medmnist) (11.1.0)\n",
            "Collecting fire (from medmnist)\n",
            "  Downloading fire-0.7.0.tar.gz (87 kB)\n",
            "\u001b[2K     \u001b[90m━━━━━━━━━━━━━━━━━━━━━━━━━━━━━━━━━━━━━━━━\u001b[0m \u001b[32m87.2/87.2 kB\u001b[0m \u001b[31m2.8 MB/s\u001b[0m eta \u001b[36m0:00:00\u001b[0m\n",
            "\u001b[?25h  Preparing metadata (setup.py) ... \u001b[?25l\u001b[?25hdone\n",
            "Requirement already satisfied: torch in /usr/local/lib/python3.11/dist-packages (from medmnist) (2.6.0+cu124)\n",
            "Requirement already satisfied: torchvision in /usr/local/lib/python3.11/dist-packages (from medmnist) (0.21.0+cu124)\n",
            "Requirement already satisfied: termcolor in /usr/local/lib/python3.11/dist-packages (from fire->medmnist) (3.0.1)\n",
            "Requirement already satisfied: python-dateutil>=2.8.2 in /usr/local/lib/python3.11/dist-packages (from pandas->medmnist) (2.8.2)\n",
            "Requirement already satisfied: pytz>=2020.1 in /usr/local/lib/python3.11/dist-packages (from pandas->medmnist) (2025.2)\n",
            "Requirement already satisfied: tzdata>=2022.7 in /usr/local/lib/python3.11/dist-packages (from pandas->medmnist) (2025.2)\n",
            "Requirement already satisfied: scipy>=1.11.4 in /usr/local/lib/python3.11/dist-packages (from scikit-image->medmnist) (1.14.1)\n",
            "Requirement already satisfied: networkx>=3.0 in /usr/local/lib/python3.11/dist-packages (from scikit-image->medmnist) (3.4.2)\n",
            "Requirement already satisfied: imageio!=2.35.0,>=2.33 in /usr/local/lib/python3.11/dist-packages (from scikit-image->medmnist) (2.37.0)\n",
            "Requirement already satisfied: tifffile>=2022.8.12 in /usr/local/lib/python3.11/dist-packages (from scikit-image->medmnist) (2025.3.30)\n",
            "Requirement already satisfied: packaging>=21 in /usr/local/lib/python3.11/dist-packages (from scikit-image->medmnist) (24.2)\n",
            "Requirement already satisfied: lazy-loader>=0.4 in /usr/local/lib/python3.11/dist-packages (from scikit-image->medmnist) (0.4)\n",
            "Requirement already satisfied: joblib>=1.2.0 in /usr/local/lib/python3.11/dist-packages (from scikit-learn->medmnist) (1.4.2)\n",
            "Requirement already satisfied: threadpoolctl>=3.1.0 in /usr/local/lib/python3.11/dist-packages (from scikit-learn->medmnist) (3.6.0)\n",
            "Requirement already satisfied: filelock in /usr/local/lib/python3.11/dist-packages (from torch->medmnist) (3.18.0)\n",
            "Requirement already satisfied: typing-extensions>=4.10.0 in /usr/local/lib/python3.11/dist-packages (from torch->medmnist) (4.13.0)\n",
            "Requirement already satisfied: jinja2 in /usr/local/lib/python3.11/dist-packages (from torch->medmnist) (3.1.6)\n",
            "Requirement already satisfied: fsspec in /usr/local/lib/python3.11/dist-packages (from torch->medmnist) (2025.3.2)\n",
            "Collecting nvidia-cuda-nvrtc-cu12==12.4.127 (from torch->medmnist)\n",
            "  Downloading nvidia_cuda_nvrtc_cu12-12.4.127-py3-none-manylinux2014_x86_64.whl.metadata (1.5 kB)\n",
            "Collecting nvidia-cuda-runtime-cu12==12.4.127 (from torch->medmnist)\n",
            "  Downloading nvidia_cuda_runtime_cu12-12.4.127-py3-none-manylinux2014_x86_64.whl.metadata (1.5 kB)\n",
            "Collecting nvidia-cuda-cupti-cu12==12.4.127 (from torch->medmnist)\n",
            "  Downloading nvidia_cuda_cupti_cu12-12.4.127-py3-none-manylinux2014_x86_64.whl.metadata (1.6 kB)\n",
            "Collecting nvidia-cudnn-cu12==9.1.0.70 (from torch->medmnist)\n",
            "  Downloading nvidia_cudnn_cu12-9.1.0.70-py3-none-manylinux2014_x86_64.whl.metadata (1.6 kB)\n",
            "Collecting nvidia-cublas-cu12==12.4.5.8 (from torch->medmnist)\n",
            "  Downloading nvidia_cublas_cu12-12.4.5.8-py3-none-manylinux2014_x86_64.whl.metadata (1.5 kB)\n",
            "Collecting nvidia-cufft-cu12==11.2.1.3 (from torch->medmnist)\n",
            "  Downloading nvidia_cufft_cu12-11.2.1.3-py3-none-manylinux2014_x86_64.whl.metadata (1.5 kB)\n",
            "Collecting nvidia-curand-cu12==10.3.5.147 (from torch->medmnist)\n",
            "  Downloading nvidia_curand_cu12-10.3.5.147-py3-none-manylinux2014_x86_64.whl.metadata (1.5 kB)\n",
            "Collecting nvidia-cusolver-cu12==11.6.1.9 (from torch->medmnist)\n",
            "  Downloading nvidia_cusolver_cu12-11.6.1.9-py3-none-manylinux2014_x86_64.whl.metadata (1.6 kB)\n",
            "Collecting nvidia-cusparse-cu12==12.3.1.170 (from torch->medmnist)\n",
            "  Downloading nvidia_cusparse_cu12-12.3.1.170-py3-none-manylinux2014_x86_64.whl.metadata (1.6 kB)\n",
            "Requirement already satisfied: nvidia-cusparselt-cu12==0.6.2 in /usr/local/lib/python3.11/dist-packages (from torch->medmnist) (0.6.2)\n",
            "Requirement already satisfied: nvidia-nccl-cu12==2.21.5 in /usr/local/lib/python3.11/dist-packages (from torch->medmnist) (2.21.5)\n",
            "Requirement already satisfied: nvidia-nvtx-cu12==12.4.127 in /usr/local/lib/python3.11/dist-packages (from torch->medmnist) (12.4.127)\n",
            "Collecting nvidia-nvjitlink-cu12==12.4.127 (from torch->medmnist)\n",
            "  Downloading nvidia_nvjitlink_cu12-12.4.127-py3-none-manylinux2014_x86_64.whl.metadata (1.5 kB)\n",
            "Requirement already satisfied: triton==3.2.0 in /usr/local/lib/python3.11/dist-packages (from torch->medmnist) (3.2.0)\n",
            "Requirement already satisfied: sympy==1.13.1 in /usr/local/lib/python3.11/dist-packages (from torch->medmnist) (1.13.1)\n",
            "Requirement already satisfied: mpmath<1.4,>=1.1.0 in /usr/local/lib/python3.11/dist-packages (from sympy==1.13.1->torch->medmnist) (1.3.0)\n",
            "Requirement already satisfied: six>=1.5 in /usr/local/lib/python3.11/dist-packages (from python-dateutil>=2.8.2->pandas->medmnist) (1.17.0)\n",
            "Requirement already satisfied: MarkupSafe>=2.0 in /usr/local/lib/python3.11/dist-packages (from jinja2->torch->medmnist) (3.0.2)\n",
            "Downloading medmnist-3.0.2-py3-none-any.whl (25 kB)\n",
            "Downloading nvidia_cublas_cu12-12.4.5.8-py3-none-manylinux2014_x86_64.whl (363.4 MB)\n",
            "\u001b[2K   \u001b[90m━━━━━━━━━━━━━━━━━━━━━━━━━━━━━━━━━━━━━━━━\u001b[0m \u001b[32m363.4/363.4 MB\u001b[0m \u001b[31m4.5 MB/s\u001b[0m eta \u001b[36m0:00:00\u001b[0m\n",
            "\u001b[?25hDownloading nvidia_cuda_cupti_cu12-12.4.127-py3-none-manylinux2014_x86_64.whl (13.8 MB)\n",
            "\u001b[2K   \u001b[90m━━━━━━━━━━━━━━━━━━━━━━━━━━━━━━━━━━━━━━━━\u001b[0m \u001b[32m13.8/13.8 MB\u001b[0m \u001b[31m69.8 MB/s\u001b[0m eta \u001b[36m0:00:00\u001b[0m\n",
            "\u001b[?25hDownloading nvidia_cuda_nvrtc_cu12-12.4.127-py3-none-manylinux2014_x86_64.whl (24.6 MB)\n",
            "\u001b[2K   \u001b[90m━━━━━━━━━━━━━━━━━━━━━━━━━━━━━━━━━━━━━━━━\u001b[0m \u001b[32m24.6/24.6 MB\u001b[0m \u001b[31m47.5 MB/s\u001b[0m eta \u001b[36m0:00:00\u001b[0m\n",
            "\u001b[?25hDownloading nvidia_cuda_runtime_cu12-12.4.127-py3-none-manylinux2014_x86_64.whl (883 kB)\n",
            "\u001b[2K   \u001b[90m━━━━━━━━━━━━━━━━━━━━━━━━━━━━━━━━━━━━━━━━\u001b[0m \u001b[32m883.7/883.7 kB\u001b[0m \u001b[31m34.9 MB/s\u001b[0m eta \u001b[36m0:00:00\u001b[0m\n",
            "\u001b[?25hDownloading nvidia_cudnn_cu12-9.1.0.70-py3-none-manylinux2014_x86_64.whl (664.8 MB)\n",
            "\u001b[2K   \u001b[90m━━━━━━━━━━━━━━━━━━━━━━━━━━━━━━━━━━━━━━━━\u001b[0m \u001b[32m664.8/664.8 MB\u001b[0m \u001b[31m2.5 MB/s\u001b[0m eta \u001b[36m0:00:00\u001b[0m\n",
            "\u001b[?25hDownloading nvidia_cufft_cu12-11.2.1.3-py3-none-manylinux2014_x86_64.whl (211.5 MB)\n",
            "\u001b[2K   \u001b[90m━━━━━━━━━━━━━━━━━━━━━━━━━━━━━━━━━━━━━━━━\u001b[0m \u001b[32m211.5/211.5 MB\u001b[0m \u001b[31m4.9 MB/s\u001b[0m eta \u001b[36m0:00:00\u001b[0m\n",
            "\u001b[?25hDownloading nvidia_curand_cu12-10.3.5.147-py3-none-manylinux2014_x86_64.whl (56.3 MB)\n",
            "\u001b[2K   \u001b[90m━━━━━━━━━━━━━━━━━━━━━━━━━━━━━━━━━━━━━━━━\u001b[0m \u001b[32m56.3/56.3 MB\u001b[0m \u001b[31m11.7 MB/s\u001b[0m eta \u001b[36m0:00:00\u001b[0m\n",
            "\u001b[?25hDownloading nvidia_cusolver_cu12-11.6.1.9-py3-none-manylinux2014_x86_64.whl (127.9 MB)\n",
            "\u001b[2K   \u001b[90m━━━━━━━━━━━━━━━━━━━━━━━━━━━━━━━━━━━━━━━━\u001b[0m \u001b[32m127.9/127.9 MB\u001b[0m \u001b[31m7.1 MB/s\u001b[0m eta \u001b[36m0:00:00\u001b[0m\n",
            "\u001b[?25hDownloading nvidia_cusparse_cu12-12.3.1.170-py3-none-manylinux2014_x86_64.whl (207.5 MB)\n",
            "\u001b[2K   \u001b[90m━━━━━━━━━━━━━━━━━━━━━━━━━━━━━━━━━━━━━━━━\u001b[0m \u001b[32m207.5/207.5 MB\u001b[0m \u001b[31m6.0 MB/s\u001b[0m eta \u001b[36m0:00:00\u001b[0m\n",
            "\u001b[?25hDownloading nvidia_nvjitlink_cu12-12.4.127-py3-none-manylinux2014_x86_64.whl (21.1 MB)\n",
            "\u001b[2K   \u001b[90m━━━━━━━━━━━━━━━━━━━━━━━━━━━━━━━━━━━━━━━━\u001b[0m \u001b[32m21.1/21.1 MB\u001b[0m \u001b[31m80.5 MB/s\u001b[0m eta \u001b[36m0:00:00\u001b[0m\n",
            "\u001b[?25hBuilding wheels for collected packages: fire\n",
            "  Building wheel for fire (setup.py) ... \u001b[?25l\u001b[?25hdone\n",
            "  Created wheel for fire: filename=fire-0.7.0-py3-none-any.whl size=114249 sha256=f1354e913ef32e61ac0a56a31219902995d56c927cf4e89c79ad731640d0d6d8\n",
            "  Stored in directory: /root/.cache/pip/wheels/46/54/24/1624fd5b8674eb1188623f7e8e17cdf7c0f6c24b609dfb8a89\n",
            "Successfully built fire\n",
            "Installing collected packages: nvidia-nvjitlink-cu12, nvidia-curand-cu12, nvidia-cufft-cu12, nvidia-cuda-runtime-cu12, nvidia-cuda-nvrtc-cu12, nvidia-cuda-cupti-cu12, nvidia-cublas-cu12, fire, nvidia-cusparse-cu12, nvidia-cudnn-cu12, nvidia-cusolver-cu12, medmnist\n",
            "  Attempting uninstall: nvidia-nvjitlink-cu12\n",
            "    Found existing installation: nvidia-nvjitlink-cu12 12.5.82\n",
            "    Uninstalling nvidia-nvjitlink-cu12-12.5.82:\n",
            "      Successfully uninstalled nvidia-nvjitlink-cu12-12.5.82\n",
            "  Attempting uninstall: nvidia-curand-cu12\n",
            "    Found existing installation: nvidia-curand-cu12 10.3.6.82\n",
            "    Uninstalling nvidia-curand-cu12-10.3.6.82:\n",
            "      Successfully uninstalled nvidia-curand-cu12-10.3.6.82\n",
            "  Attempting uninstall: nvidia-cufft-cu12\n",
            "    Found existing installation: nvidia-cufft-cu12 11.2.3.61\n",
            "    Uninstalling nvidia-cufft-cu12-11.2.3.61:\n",
            "      Successfully uninstalled nvidia-cufft-cu12-11.2.3.61\n",
            "  Attempting uninstall: nvidia-cuda-runtime-cu12\n",
            "    Found existing installation: nvidia-cuda-runtime-cu12 12.5.82\n",
            "    Uninstalling nvidia-cuda-runtime-cu12-12.5.82:\n",
            "      Successfully uninstalled nvidia-cuda-runtime-cu12-12.5.82\n",
            "  Attempting uninstall: nvidia-cuda-nvrtc-cu12\n",
            "    Found existing installation: nvidia-cuda-nvrtc-cu12 12.5.82\n",
            "    Uninstalling nvidia-cuda-nvrtc-cu12-12.5.82:\n",
            "      Successfully uninstalled nvidia-cuda-nvrtc-cu12-12.5.82\n",
            "  Attempting uninstall: nvidia-cuda-cupti-cu12\n",
            "    Found existing installation: nvidia-cuda-cupti-cu12 12.5.82\n",
            "    Uninstalling nvidia-cuda-cupti-cu12-12.5.82:\n",
            "      Successfully uninstalled nvidia-cuda-cupti-cu12-12.5.82\n",
            "  Attempting uninstall: nvidia-cublas-cu12\n",
            "    Found existing installation: nvidia-cublas-cu12 12.5.3.2\n",
            "    Uninstalling nvidia-cublas-cu12-12.5.3.2:\n",
            "      Successfully uninstalled nvidia-cublas-cu12-12.5.3.2\n",
            "  Attempting uninstall: nvidia-cusparse-cu12\n",
            "    Found existing installation: nvidia-cusparse-cu12 12.5.1.3\n",
            "    Uninstalling nvidia-cusparse-cu12-12.5.1.3:\n",
            "      Successfully uninstalled nvidia-cusparse-cu12-12.5.1.3\n",
            "  Attempting uninstall: nvidia-cudnn-cu12\n",
            "    Found existing installation: nvidia-cudnn-cu12 9.3.0.75\n",
            "    Uninstalling nvidia-cudnn-cu12-9.3.0.75:\n",
            "      Successfully uninstalled nvidia-cudnn-cu12-9.3.0.75\n",
            "  Attempting uninstall: nvidia-cusolver-cu12\n",
            "    Found existing installation: nvidia-cusolver-cu12 11.6.3.83\n",
            "    Uninstalling nvidia-cusolver-cu12-11.6.3.83:\n",
            "      Successfully uninstalled nvidia-cusolver-cu12-11.6.3.83\n",
            "Successfully installed fire-0.7.0 medmnist-3.0.2 nvidia-cublas-cu12-12.4.5.8 nvidia-cuda-cupti-cu12-12.4.127 nvidia-cuda-nvrtc-cu12-12.4.127 nvidia-cuda-runtime-cu12-12.4.127 nvidia-cudnn-cu12-9.1.0.70 nvidia-cufft-cu12-11.2.1.3 nvidia-curand-cu12-10.3.5.147 nvidia-cusolver-cu12-11.6.1.9 nvidia-cusparse-cu12-12.3.1.170 nvidia-nvjitlink-cu12-12.4.127\n"
          ]
        }
      ],
      "source": [
        "!pip install medmnist"
      ]
    },
    {
      "cell_type": "markdown",
      "source": [
        "Importantando MedMNIST, Numpy, tqdm e torch."
      ],
      "metadata": {
        "id": "QjoJuTZzM3Qr"
      }
    },
    {
      "cell_type": "code",
      "source": [
        "from tqdm import tqdm\n",
        "import numpy as np\n",
        "import torch\n",
        "import torch.nn as nn\n",
        "import torch.optim as optim\n",
        "import torch.utils.data as data\n",
        "import torchvision.transforms as transforms\n",
        "\n",
        "import medmnist\n",
        "from medmnist import INFO, Evaluator"
      ],
      "metadata": {
        "id": "PedGaMprrMhZ"
      },
      "execution_count": 4,
      "outputs": []
    },
    {
      "cell_type": "markdown",
      "source": [
        "Trabalhando com imagens de tamanho 128x128."
      ],
      "metadata": {
        "id": "36YoqlawNY8o"
      }
    },
    {
      "cell_type": "code",
      "source": [
        "data_flag = 'pathmnist'\n",
        "# data_flag = 'breastmnist'\n",
        "download = True\n",
        "\n",
        "NUM_EPOCHS = 3\n",
        "BATCH_SIZE = 128\n",
        "lr = 0.001\n",
        "\n",
        "info = INFO[data_flag]\n",
        "task = info['task']\n",
        "n_channels = info['n_channels']\n",
        "n_classes = len(info['label'])\n",
        "\n",
        "DataClass = getattr(medmnist, info['python_class'])"
      ],
      "metadata": {
        "id": "z5gKMLe_rUoM"
      },
      "execution_count": 5,
      "outputs": []
    },
    {
      "cell_type": "markdown",
      "source": [
        "Lendo os dados do MedMNIST, preprocessando eles e encapsulando eles dentro de um `DataLoader`."
      ],
      "metadata": {
        "id": "jau1kxYiNh4T"
      }
    },
    {
      "cell_type": "code",
      "source": [
        "# preprocessing\n",
        "data_transform = transforms.Compose([\n",
        "    transforms.ToTensor(),\n",
        "    transforms.Normalize(mean=[.5], std=[.5]),\n",
        "])\n",
        "\n",
        "# load the data\n",
        "train_dataset = DataClass(split='train', transform=data_transform, download=download, size=128)\n",
        "\n",
        "# encapsulate data into dataloader form\n",
        "train_loader = data.DataLoader(dataset=train_dataset, batch_size=BATCH_SIZE, shuffle=True)\n",
        "train_loader_at_eval = data.DataLoader(dataset=train_dataset, batch_size=2*BATCH_SIZE, shuffle=False)"
      ],
      "metadata": {
        "id": "KA2IBtFQro3h",
        "outputId": "3ca3bced-4830-4a29-c523-0b7f921dfcd0",
        "colab": {
          "base_uri": "https://localhost:8080/"
        }
      },
      "execution_count": 8,
      "outputs": [
        {
          "output_type": "stream",
          "name": "stderr",
          "text": [
            "100%|██████████| 4.26G/4.26G [03:50<00:00, 18.5MB/s]\n"
          ]
        }
      ]
    },
    {
      "cell_type": "code",
      "source": [
        "import os\n",
        "import glob"
      ],
      "metadata": {
        "id": "ypMQCLQziOjW"
      },
      "execution_count": 110,
      "outputs": []
    },
    {
      "cell_type": "code",
      "source": [
        "def remove_files_in_folder():\n",
        "  files = glob.glob('./sample_data/tmp/*.jpg')\n",
        "  for f in files:\n",
        "      os.remove(f)"
      ],
      "metadata": {
        "id": "bF4qWQvHiTDn"
      },
      "execution_count": 111,
      "outputs": []
    },
    {
      "cell_type": "code",
      "source": [
        "remove_files_in_folder()\n",
        "\n",
        "train_dataset.montage(length=1, save_folder=\"./sample_data/tmp/\")\n",
        "\n",
        "image = cv2.imread('./sample_data/tmp/pathmnist_128_train_montage.jpg')\n",
        "cv2_imshow(image)"
      ],
      "metadata": {
        "id": "sw4bQj9-sHxp",
        "outputId": "76edcbb1-b2f5-41ef-e592-f0972748622a",
        "colab": {
          "base_uri": "https://localhost:8080/",
          "height": 145
        }
      },
      "execution_count": 165,
      "outputs": [
        {
          "output_type": "display_data",
          "data": {
            "text/plain": [
              "<PIL.Image.Image image mode=RGB size=128x128>"
            ],
            "image/png": "[encoded data removed]",
            "image/jpeg": "[encoded data removed]"
          },
          "metadata": {}
        }
      ]
    },
    {
      "cell_type": "markdown",
      "source": [
        "O MSE é uma técnica utilizada para identificar distorções espaciais (estruturas - simetria) da imagem após processamento. Quanto mais próximo do zero, mais iguais as imagens são.\n"
      ],
      "metadata": {
        "id": "OQD8f_n4VBxO"
      }
    },
    {
      "cell_type": "code",
      "source": [
        "def mse(imageA, imageB):\n",
        "  err = np.sum((imageA.astype(\"float\") - imageB.astype(\"float\")) ** 2)\n",
        "  err /= float(imageA.shape[0] * imageA.shape[1])\n",
        "\n",
        "  return err"
      ],
      "metadata": {
        "id": "AJxEtjgwULmO"
      },
      "execution_count": 113,
      "outputs": []
    },
    {
      "cell_type": "markdown",
      "source": [
        "O RMSE é o MSE com a aplicação de uma raiz quadrada. Indica o erro padronizado e é geralmente geralmente mais utilizado que o MSE - quanto maior pior."
      ],
      "metadata": {
        "id": "04RbyfezWXhY"
      }
    },
    {
      "cell_type": "code",
      "source": [
        "def rmse(imageA, imageB):\n",
        "  return np.sqrt(mse(imageA, imageB))"
      ],
      "metadata": {
        "id": "nQtI8VNuWBDo"
      },
      "execution_count": 127,
      "outputs": []
    },
    {
      "cell_type": "markdown",
      "source": [
        "PSNR é a razão entre a potência máxima de um sinal e a potência máxima do sinal do ruído.\n",
        "\n",
        "1. Medido em dB.\n",
        "2. Quanto maior melhor (considerável bom >= `20` dB).\n",
        "3. L indica o valor máximo do pixel (ex: `255`)."
      ],
      "metadata": {
        "id": "l5QTqYRIXmSC"
      }
    },
    {
      "cell_type": "code",
      "source": [
        "def psnr(original, compressed):\n",
        "  mse = np.mean((original - compressed) ** 2)\n",
        "  if mse == 0:\n",
        "    return 100\n",
        "\n",
        "  max_pixels = 255\n",
        "  return 20 * log10(max_pixels / sqrt(mse))"
      ],
      "metadata": {
        "id": "SWkMcoySYA77"
      },
      "execution_count": 115,
      "outputs": []
    },
    {
      "cell_type": "markdown",
      "source": [
        "O SSIM é uma métrica baseada em recurso do Sistema Visual Humano (HVS) – Hue, Saturation or Intensity Value.\n",
        "\n",
        "– O SSIM mede a semelhança entre duas imagens, sendo uma melhoria em relação a métodos como MSE e PSNR.\n",
        "\n",
        "- Basicamente, calcula a degradação da imagem para algum processo.\n",
        "\n",
        "– Vai de `-1` a `1`, sendo `1` para imagens idênticas."
      ],
      "metadata": {
        "id": "ZfCSYI-RZIQd"
      }
    },
    {
      "cell_type": "code",
      "source": [
        "!pip install SSIM-PIL"
      ],
      "metadata": {
        "colab": {
          "base_uri": "https://localhost:8080/"
        },
        "id": "Dox5UjYYZbZ-",
        "outputId": "07caad62-e14e-4273-ef87-00917b6f9088"
      },
      "execution_count": 23,
      "outputs": [
        {
          "output_type": "stream",
          "name": "stdout",
          "text": [
            "Collecting SSIM-PIL\n",
            "  Downloading SSIM_PIL-1.0.14-py3-none-any.whl.metadata (1.2 kB)\n",
            "Downloading SSIM_PIL-1.0.14-py3-none-any.whl (11 kB)\n",
            "Installing collected packages: SSIM-PIL\n",
            "Successfully installed SSIM-PIL-1.0.14\n"
          ]
        }
      ]
    },
    {
      "cell_type": "code",
      "source": [
        "from SSIM_PIL import compare_ssim\n",
        "from PIL import Image"
      ],
      "metadata": {
        "id": "ROdG2CtNZk83"
      },
      "execution_count": 116,
      "outputs": []
    },
    {
      "cell_type": "code",
      "source": [
        "def ssim(imageA, imageB):\n",
        "  return compare_ssim(imageA, imageB)"
      ],
      "metadata": {
        "id": "xb_HLP9XaAQf"
      },
      "execution_count": 117,
      "outputs": []
    },
    {
      "cell_type": "markdown",
      "source": [
        "O GMSD, assim como SSIM, é uma métrica para o HSV.\n",
        "\n",
        "- Avalia a distorção causada pelo processamento entre a imagem de referência e a imagem processada.\n",
        "- Os m’s referem-se as imagens e `c` é uma constante > `0`.\n",
        "- Quanto maior o valor melhor a qualidade."
      ],
      "metadata": {
        "id": "Eq3Cwr8vaToc"
      }
    },
    {
      "cell_type": "code",
      "source": [
        "!pip install sporco"
      ],
      "metadata": {
        "colab": {
          "base_uri": "https://localhost:8080/"
        },
        "id": "Ps9HU651a9-P",
        "outputId": "2cd7137e-348a-47f1-fb73-078210d9e1e1"
      },
      "execution_count": 28,
      "outputs": [
        {
          "output_type": "stream",
          "name": "stdout",
          "text": [
            "Collecting sporco\n",
            "  Downloading sporco-0.2.1-py3-none-any.whl.metadata (2.5 kB)\n",
            "Requirement already satisfied: future in /usr/local/lib/python3.11/dist-packages (from sporco) (1.0.0)\n",
            "Requirement already satisfied: numpy in /usr/local/lib/python3.11/dist-packages (from sporco) (2.0.2)\n",
            "Requirement already satisfied: scipy in /usr/local/lib/python3.11/dist-packages (from sporco) (1.14.1)\n",
            "Requirement already satisfied: imageio in /usr/local/lib/python3.11/dist-packages (from sporco) (2.37.0)\n",
            "Requirement already satisfied: matplotlib in /usr/local/lib/python3.11/dist-packages (from sporco) (3.10.0)\n",
            "Collecting pyfftw (from sporco)\n",
            "  Downloading pyFFTW-0.15.0-cp311-cp311-manylinux_2_28_x86_64.whl.metadata (15 kB)\n",
            "Requirement already satisfied: pillow>=8.3.2 in /usr/local/lib/python3.11/dist-packages (from imageio->sporco) (11.1.0)\n",
            "Requirement already satisfied: contourpy>=1.0.1 in /usr/local/lib/python3.11/dist-packages (from matplotlib->sporco) (1.3.1)\n",
            "Requirement already satisfied: cycler>=0.10 in /usr/local/lib/python3.11/dist-packages (from matplotlib->sporco) (0.12.1)\n",
            "Requirement already satisfied: fonttools>=4.22.0 in /usr/local/lib/python3.11/dist-packages (from matplotlib->sporco) (4.56.0)\n",
            "Requirement already satisfied: kiwisolver>=1.3.1 in /usr/local/lib/python3.11/dist-packages (from matplotlib->sporco) (1.4.8)\n",
            "Requirement already satisfied: packaging>=20.0 in /usr/local/lib/python3.11/dist-packages (from matplotlib->sporco) (24.2)\n",
            "Requirement already satisfied: pyparsing>=2.3.1 in /usr/local/lib/python3.11/dist-packages (from matplotlib->sporco) (3.2.3)\n",
            "Requirement already satisfied: python-dateutil>=2.7 in /usr/local/lib/python3.11/dist-packages (from matplotlib->sporco) (2.8.2)\n",
            "Requirement already satisfied: setuptools>=70.1.1 in /usr/local/lib/python3.11/dist-packages (from pyfftw->sporco) (75.2.0)\n",
            "Requirement already satisfied: six>=1.5 in /usr/local/lib/python3.11/dist-packages (from python-dateutil>=2.7->matplotlib->sporco) (1.17.0)\n",
            "Downloading sporco-0.2.1-py3-none-any.whl (4.5 MB)\n",
            "\u001b[2K   \u001b[90m━━━━━━━━━━━━━━━━━━━━━━━━━━━━━━━━━━━━━━━━\u001b[0m \u001b[32m4.5/4.5 MB\u001b[0m \u001b[31m18.3 MB/s\u001b[0m eta \u001b[36m0:00:00\u001b[0m\n",
            "\u001b[?25hDownloading pyFFTW-0.15.0-cp311-cp311-manylinux_2_28_x86_64.whl (3.1 MB)\n",
            "\u001b[2K   \u001b[90m━━━━━━━━━━━━━━━━━━━━━━━━━━━━━━━━━━━━━━━━\u001b[0m \u001b[32m3.1/3.1 MB\u001b[0m \u001b[31m64.2 MB/s\u001b[0m eta \u001b[36m0:00:00\u001b[0m\n",
            "\u001b[?25hInstalling collected packages: pyfftw, sporco\n",
            "Successfully installed pyfftw-0.15.0 sporco-0.2.1\n"
          ]
        }
      ]
    },
    {
      "cell_type": "code",
      "source": [
        "import sporco.metric as sm"
      ],
      "metadata": {
        "id": "_QVL8WOvbCZX"
      },
      "execution_count": 29,
      "outputs": []
    },
    {
      "cell_type": "code",
      "source": [
        "def gmsd(original, processed):\n",
        "  return sm.gmsd(original, processed)"
      ],
      "metadata": {
        "id": "8yhb8ehXbRew"
      },
      "execution_count": 136,
      "outputs": []
    },
    {
      "cell_type": "code",
      "source": [
        "import cv2\n",
        "import numpy as np\n",
        "import matplotlib.pyplot as plt\n",
        "from google.colab.patches import cv2_imshow"
      ],
      "metadata": {
        "id": "8hFUJ7yQcngh"
      },
      "execution_count": 34,
      "outputs": []
    },
    {
      "cell_type": "markdown",
      "source": [
        "Filtro que permite deixar a imagem com cinza ponderado."
      ],
      "metadata": {
        "id": "J2A4gEiZvwwE"
      }
    },
    {
      "cell_type": "code",
      "source": [
        "def grayscale_pondered(image):\n",
        "  B, G, R = cv2.split(image)\n",
        "  img_grayscale_pondered = 0.299 * B + 0.587 * G + 0.114 * R\n",
        "\n",
        "  return np.array(img_grayscale_pondered, dtype=np.uint8)\n",
        "\n",
        "image_grayscale_pondered = grayscale_pondered(image)\n",
        "cv2_imshow(image_grayscale_pondered)"
      ],
      "metadata": {
        "colab": {
          "base_uri": "https://localhost:8080/",
          "height": 145
        },
        "id": "6Kyh6IGXejBG",
        "outputId": "9667802a-3173-42ad-dac6-099f476c44fb"
      },
      "execution_count": 166,
      "outputs": [
        {
          "output_type": "display_data",
          "data": {
            "text/plain": [
              "<PIL.Image.Image image mode=L size=128x128>"
            ],
            "image/png": "[encoded data removed]",
            "image/jpeg": "[encoded data removed]"
          },
          "metadata": {}
        }
      ]
    },
    {
      "cell_type": "markdown",
      "source": [
        "Filtro que permite deixar a imagem com cinza básico (soma das cores divido por três)."
      ],
      "metadata": {
        "id": "JjBPw-Kwv4HG"
      }
    },
    {
      "cell_type": "code",
      "source": [
        "def grayscale_basic(image):\n",
        "  B, G, R = cv2.split(image)\n",
        "  img_grayscale_basic = (B+G+R)/3\n",
        "\n",
        "  return np.array(img_grayscale_basic, dtype=np.uint8)\n",
        "\n",
        "image_grayscale_basic = grayscale_basic(image)\n",
        "cv2_imshow(image_grayscale_basic)"
      ],
      "metadata": {
        "colab": {
          "base_uri": "https://localhost:8080/",
          "height": 145
        },
        "id": "WT0pumftfJ-g",
        "outputId": "c8209b91-60a5-413b-ade7-15719474be69"
      },
      "execution_count": 201,
      "outputs": [
        {
          "output_type": "display_data",
          "data": {
            "text/plain": [
              "<PIL.Image.Image image mode=L size=128x128>"
            ],
            "image/png": "[encoded data removed]",
            "image/jpeg": "[encoded data removed]"
          },
          "metadata": {}
        }
      ]
    },
    {
      "cell_type": "markdown",
      "source": [
        "Adiciona `padding` a imagem."
      ],
      "metadata": {
        "id": "LxrRqGdnwESK"
      }
    },
    {
      "cell_type": "code",
      "source": [
        "def add_padding(img, padding_height, padding_width):\n",
        "    n, m = img.shape\n",
        "\n",
        "    padded_img = np.zeros((n + padding_height * 2, m + padding_width * 2))\n",
        "    padded_img[padding_height : n + padding_height, padding_width : m + padding_width] = img\n",
        "\n",
        "    return padded_img"
      ],
      "metadata": {
        "id": "YOfGwJawpZ2n"
      },
      "execution_count": 146,
      "outputs": []
    },
    {
      "cell_type": "markdown",
      "source": [
        "Realiza a convolação da imagem."
      ],
      "metadata": {
        "id": "cTTWlFDmwICK"
      }
    },
    {
      "cell_type": "code",
      "source": [
        "def conv2d(img, kernel, padding=True):\n",
        "    # Get dimensions of the kernel\n",
        "    k_height, k_width = kernel.shape\n",
        "\n",
        "    # Get dimensions of the image\n",
        "    img_height, img_width = img.shape\n",
        "\n",
        "    # Calculate padding required\n",
        "    pad_height = k_height // 2\n",
        "    pad_width = k_width // 2\n",
        "\n",
        "    # Create a padded version of the image to handle edges\n",
        "    if padding == True:\n",
        "        padded_img = add_padding(img, pad_height, pad_width)\n",
        "\n",
        "    # Initialize an output image with zeros\n",
        "    output = np.zeros((img_height, img_width), dtype=float)\n",
        "\n",
        "    # Perform convolution\n",
        "    for i_img in range(img_height):\n",
        "        for j_img in range(img_width):\n",
        "            for i_kernel in range(k_height):\n",
        "                for j_kernel in range(k_width):\n",
        "                    output[i_img, j_img] = output[i_img, j_img] + (padded_img[i_img+i_kernel, j_img+j_kernel] * kernel[i_kernel, j_kernel])\n",
        "            output[i_img, j_img] = int(output[i_img, j_img])\n",
        "\n",
        "    return np.clip(output, 0, 255).astype(np.uint8)"
      ],
      "metadata": {
        "id": "tvD-oDrSptHs"
      },
      "execution_count": 220,
      "outputs": []
    },
    {
      "cell_type": "markdown",
      "source": [
        "Filtro Laplaciano"
      ],
      "metadata": {
        "id": "FWYjoUMWwVlB"
      }
    },
    {
      "cell_type": "code",
      "source": [
        "laplacian_kernel = np.array([[1, 1, 1],\n",
        "                             [1, -8, 1],\n",
        "                             [1, 1, 1]])\n",
        "\n",
        "def laplacian(image, kernel):\n",
        "    return conv2d(image, kernel)\n",
        "\n",
        "image_laplacian = laplacian(image_grayscale_pondered, laplacian_kernel)\n",
        "cv2_imshow(image_laplacian)"
      ],
      "metadata": {
        "colab": {
          "base_uri": "https://localhost:8080/",
          "height": 145
        },
        "id": "iSNqMzeiot_8",
        "outputId": "b825f7d1-37ee-4c5a-8898-0527f7cb1935"
      },
      "execution_count": 221,
      "outputs": [
        {
          "output_type": "display_data",
          "data": {
            "text/plain": [
              "<PIL.Image.Image image mode=L size=128x128>"
            ],
            "image/png": "[encoded data removed]",
            "image/jpeg": "[encoded data removed]"
          },
          "metadata": {}
        }
      ]
    },
    {
      "cell_type": "markdown",
      "source": [
        "Filtro de Gaussiano"
      ],
      "metadata": {
        "id": "gElMBQZ3wkc3"
      }
    },
    {
      "cell_type": "code",
      "source": [
        "def gaussian_kernel(size, sigma=1):\n",
        "    ax = np.linspace(-(size // 2), size // 2, size)\n",
        "    xx, yy = np.meshgrid(ax, ax)\n",
        "    kernel = np.exp(-(xx**2 + yy**2) / (2 * sigma**2))\n",
        "    return kernel / np.sum(kernel)"
      ],
      "metadata": {
        "id": "1ukVgofZvAcJ"
      },
      "execution_count": 217,
      "outputs": []
    },
    {
      "cell_type": "code",
      "source": [
        "def gaussian(img, kernel):\n",
        "    height, width = img.shape\n",
        "    k_size = kernel.shape[0]\n",
        "    pad = k_size // 2\n",
        "\n",
        "    padded_img = add_padding(img, pad, pad)\n",
        "    smoothed_img = np.zeros_like(img, dtype=float)\n",
        "\n",
        "    for i in range(height):\n",
        "        for j in range(width):\n",
        "            region = padded_img[i:i+k_size, j:j+k_size]\n",
        "            smoothed_img[i, j] = np.sum(region * kernel)\n",
        "\n",
        "    return np.clip(smoothed_img, 0, 255).astype(np.uint8)\n",
        "\n",
        "kernel = gaussian_kernel(size=5)\n",
        "image_gaussian = gaussian(image_grayscale_pondered, kernel)\n",
        "cv2_imshow(image_gaussian)"
      ],
      "metadata": {
        "colab": {
          "base_uri": "https://localhost:8080/",
          "height": 145
        },
        "id": "lTBqOAQHvFGc",
        "outputId": "58bce421-6bcc-492e-8fe3-84ed6a6b6cf5"
      },
      "execution_count": 218,
      "outputs": [
        {
          "output_type": "display_data",
          "data": {
            "text/plain": [
              "<PIL.Image.Image image mode=L size=128x128>"
            ],
            "image/png": "[encoded data removed]",
            "image/jpeg": "[encoded data removed]"
          },
          "metadata": {}
        }
      ]
    },
    {
      "cell_type": "markdown",
      "source": [
        "Filtro de Mediana"
      ],
      "metadata": {
        "id": "jzPi1GNywzYY"
      }
    },
    {
      "cell_type": "code",
      "source": [
        "def median(image, kernel_size=5):\n",
        "    pad_size = kernel_size // 2\n",
        "\n",
        "    if len(image.shape) == 3:\n",
        "        channels = cv2.split(image)\n",
        "        filtered_channels = []\n",
        "        for ch in channels:\n",
        "            padded_ch = add_padding(ch, pad_size, pad_size)\n",
        "            n, m = ch.shape\n",
        "            output_ch = np.zeros_like(ch)\n",
        "            for i in range(n):\n",
        "                for j in range(m):\n",
        "                    window = padded_ch[i:i+kernel_size, j:j+kernel_size]\n",
        "                    output_ch[i, j] = np.median(window)\n",
        "            filtered_channels.append(output_ch)\n",
        "        output = cv2.merge(filtered_channels)\n",
        "    else:\n",
        "        padded_img = add_padding(image, pad_size, pad_size)\n",
        "        n, m = image.shape\n",
        "        output = np.zeros_like(image)\n",
        "        for i in range(n):\n",
        "            for j in range(m):\n",
        "                window = padded_img[i:i+kernel_size, j:j+kernel_size]\n",
        "                output[i, j] = np.median(window)\n",
        "    return output\n",
        "\n",
        "image_median = median(image_grayscale_pondered)\n",
        "cv2_imshow(image_median)"
      ],
      "metadata": {
        "colab": {
          "base_uri": "https://localhost:8080/",
          "height": 145
        },
        "id": "imaN1PS9zUK_",
        "outputId": "dd403ad3-fc36-416d-bf18-a5b0f10e9fab"
      },
      "execution_count": 222,
      "outputs": [
        {
          "output_type": "display_data",
          "data": {
            "text/plain": [
              "<PIL.Image.Image image mode=L size=128x128>"
            ],
            "image/png": "[encoded data removed]",
            "image/jpeg": "[encoded data removed]"
          },
          "metadata": {}
        }
      ]
    },
    {
      "cell_type": "markdown",
      "source": [
        "Filtro High-Boost Filtering"
      ],
      "metadata": {
        "id": "9dM0TkEhwt0C"
      }
    },
    {
      "cell_type": "code",
      "source": [
        "def high_boost(image, image_blurred):\n",
        "    C = 1.5\n",
        "    alpha = C\n",
        "    beta = -(C - 1)\n",
        "    gamma = 0\n",
        "\n",
        "    result = alpha * image + beta * image_blurred + gamma\n",
        "\n",
        "    return np.clip(result, 0, 255).astype(np.uint8)\n",
        "\n",
        "image_high_boost_with_gaussian = high_boost(image_grayscale_pondered, image_gaussian)\n",
        "print(\"High Boost with Gaussian:\")\n",
        "cv2_imshow(image_high_boost_with_gaussian)\n",
        "image_high_boost_with_median = high_boost(image_grayscale_pondered, image_gaussian)\n",
        "print(\"High Boost with Median:\")\n",
        "cv2_imshow(image_high_boost_with_median)"
      ],
      "metadata": {
        "colab": {
          "base_uri": "https://localhost:8080/",
          "height": 309
        },
        "id": "2Rx-gKk4wtZ5",
        "outputId": "7b34aabc-7acc-4db8-e26f-36fef1cc9881"
      },
      "execution_count": 226,
      "outputs": [
        {
          "output_type": "stream",
          "name": "stdout",
          "text": [
            "High Boost with Gaussian:\n"
          ]
        },
        {
          "output_type": "display_data",
          "data": {
            "text/plain": [
              "<PIL.Image.Image image mode=L size=128x128>"
            ],
            "image/png": "[encoded data removed]",
            "image/jpeg": "[encoded data removed]"
          },
          "metadata": {}
        },
        {
          "output_type": "stream",
          "name": "stdout",
          "text": [
            "High Boost with Median:\n"
          ]
        },
        {
          "output_type": "display_data",
          "data": {
            "text/plain": [
              "<PIL.Image.Image image mode=L size=128x128>"
            ],
            "image/png": "[encoded data removed]",
            "image/jpeg": "[encoded data removed]"
          },
          "metadata": {}
        }
      ]
    },
    {
      "cell_type": "markdown",
      "source": [
        "Filtro de Sobel"
      ],
      "metadata": {
        "id": "3rn8ruvI3n5_"
      }
    },
    {
      "cell_type": "code",
      "source": [
        "def normalize(img):\n",
        "    img = np.abs(img)\n",
        "    img = (img / img.max()) * 255\n",
        "    return img.astype(np.uint8)\n",
        "\n",
        "def sobel(image):\n",
        "  # Convert to float64\n",
        "  image = image.astype(np.float64)\n",
        "\n",
        "  # Define Sobel kernels\n",
        "  kernel_x = np.array([\n",
        "    [-1, 0, 1],\n",
        "    [-2, 0, 2],\n",
        "    [-1, 0, 1]\n",
        "  ])\n",
        "\n",
        "  kernel_y = np.array([\n",
        "    [-1, -2, -1],\n",
        "    [ 0,  0,  0],\n",
        "    [ 1,  2,  1]\n",
        "  ])\n",
        "\n",
        "  # Initialize output arrays\n",
        "  height, width = image.shape\n",
        "  sobel_x = np.zeros_like(image)\n",
        "  sobel_y = np.zeros_like(image)\n",
        "\n",
        "  # Apply convolution manually (ignoring borders)\n",
        "  for i in range(1, height - 1):\n",
        "      for j in range(1, width - 1):\n",
        "          region = image[i - 1:i + 2, j - 1:j + 2]\n",
        "          gx = np.sum(kernel_x * region)\n",
        "          gy = np.sum(kernel_y * region)\n",
        "          sobel_x[i, j] = gx\n",
        "          sobel_y[i, j] = gy\n",
        "\n",
        "  # Compute combined gradient magnitude\n",
        "  sobel_combined = np.sqrt(sobel_x**2 + sobel_y**2)\n",
        "\n",
        "  # Normalize all outputs to range [0, 255] and convert to uint8\n",
        "  return normalize(sobel_combined)\n",
        "\n",
        "image_sobel = sobel(image_grayscale_pondered)\n",
        "cv2_imshow(image_sobel)"
      ],
      "metadata": {
        "colab": {
          "base_uri": "https://localhost:8080/",
          "height": 145
        },
        "id": "aOAXQlMm3nfy",
        "outputId": "5bbd99bf-ea45-4992-9206-e93d7ca09c1e"
      },
      "execution_count": 233,
      "outputs": [
        {
          "output_type": "display_data",
          "data": {
            "text/plain": [
              "<PIL.Image.Image image mode=L size=128x128>"
            ],
            "image/png": "[encoded data removed]",
            "image/jpeg": "[encoded data removed]"
          },
          "metadata": {}
        }
      ]
    }
  ],
  "metadata": {
    "colab": {
      "provenance": []
    },
    "kernelspec": {
      "display_name": "Python 3",
      "name": "python3"
    }
  },
  "nbformat": 4,
  "nbformat_minor": 0
}
